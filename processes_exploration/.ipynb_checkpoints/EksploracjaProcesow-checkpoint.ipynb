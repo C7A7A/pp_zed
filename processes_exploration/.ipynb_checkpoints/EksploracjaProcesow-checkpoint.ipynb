{
 "cells": [
  {
   "cell_type": "markdown",
   "metadata": {},
   "source": [
    "# Eksploracja procesów\n",
    "\n",
    "Ten notatnik pomoże Ci zapoznać się ze specyfiką eksploracji procesów w Pythonie. W trakcie ćwiczenia będziemy korzystać ze standardowych bibliotek takich jak [pandas](https://pandas.pydata.org/) jak również ze specjalizowanej biblioteki [pm4py](https://pm4py.fit.fraunhofer.de/). Po uzupełnieniu tego notatnika powinieneś:\n",
    "\n",
    "+ wiedzieć jak zaimportować dane z dzienników zdarzeń do pm4py,\n",
    "+ jak odkrywać modele procesów z dzienników zdarzeń,\n",
    "+ jak wizualizować modele procesów,\n",
    "+ jak wykorzystać modele i ich wizualizacje do analizy procesów."
   ]
  },
  {
   "cell_type": "markdown",
   "metadata": {},
   "source": [
    "## Przygotowanie\n",
    "\n",
    "Biblioteka pm4py pozwala odkrywać i wizualizować modele procesów w Pythonie. Biblioteka ta pozwala również porównywać modele procesów z wykonaniami (*conformance checking*). Aby móc korzystać z biblioteki pm4py, należy przed jej zainstalowaniem zainstalować graphviz. Jeśli korzystasz z condy, wystarczy wykonać polecenie:\n",
    "\n",
    "```\n",
    "conda install -c conda-forge python-graphviz\n",
    "```\n",
    "\n",
    "*Jeśli nie korzystasz z condy, zainstaluj w systemie graphviz i dodaj tę aplikację do ścieżki systemowej, i dopiero wtedy zainstaluj graphviz przez pip.*\n",
    "\n",
    "Po zainstalowaniu graphviz możesz zainstalować pm4py:\n",
    "\n",
    "```\n",
    "pip install pm4py\n",
    "```\n",
    "\n",
    "Wykonaj poniższy kod, aby sprawdzić czy biblioteka została poprawnie zainstalowana."
   ]
  },
  {
   "cell_type": "code",
   "execution_count": null,
   "metadata": {
    "ExecuteTime": {
     "end_time": "2022-01-16T01:22:49.728062Z",
     "start_time": "2022-01-16T01:22:47.707273Z"
    }
   },
   "outputs": [],
   "source": [
    "import pandas as pd\n",
    "\n",
    "import pm4py\n",
    "from pm4py.objects.conversion.log import converter as log_converter\n",
    "from pm4py.objects.log.util import dataframe_utils\n",
    "from pm4py.algo.discovery.alpha import algorithm as alpha_miner\n",
    "from pm4py.visualization.petri_net import visualizer as pn_visualizer"
   ]
  },
  {
   "cell_type": "markdown",
   "metadata": {},
   "source": [
    "## Prosty przykład\n",
    "\n",
    "Na początek rozważymy prosty przykład omawiany na slajdach przy okazji algorytmu alfa. Przykład składa się z 5 przypadków wykonań procesu (kolumna `case`), gdzie każdy przypadek składa się z 6 zdarzeń (kolumna `event`) umiejscowionych w czasie (kolumna `timestamp`). Plik z danymi można pobrać ze strony kursu. Wykonaj poniższy kod aby zobaczyć dane źródłowe."
   ]
  },
  {
   "cell_type": "code",
   "execution_count": null,
   "metadata": {
    "ExecuteTime": {
     "end_time": "2022-01-16T01:22:49.759205Z",
     "start_time": "2022-01-16T01:22:49.730074Z"
    }
   },
   "outputs": [],
   "source": [
    "df = pd.read_csv(\"toy_example.csv\")\n",
    "df.head(10)"
   ]
  },
  {
   "cell_type": "markdown",
   "metadata": {},
   "source": [
    "Biblioteka pm4py domyślnie oczekuje kolumn `time:timestamp`, `case:concept:name`, `concept:name` do określania kolejno czasu, przypadku i typu zdarzenia. Aby utrzymać dane w konwencji pm4py, wykonaj poniższy kod aby przemianować odpowiednie kolumny i posortować dane według czasu."
   ]
  },
  {
   "cell_type": "code",
   "execution_count": null,
   "metadata": {
    "ExecuteTime": {
     "end_time": "2022-01-16T01:22:49.774755Z",
     "start_time": "2022-01-16T01:22:49.762124Z"
    }
   },
   "outputs": [],
   "source": [
    "df.rename(columns={\"timestamp\": \"time:timestamp\", \"case\": \"case:concept:name\", \"event\":\"concept:name\"}, inplace=True)\n",
    "df = dataframe_utils.convert_timestamp_columns_in_df(df)\n",
    "df = df.sort_values('time:timestamp')\n",
    "df.head(10)"
   ]
  },
  {
   "cell_type": "markdown",
   "metadata": {},
   "source": [
    "Następnie przekonwertujemy dane z dataframe'a do formatu używanego przez pm4py. Wykorzystamy do tego obiekt zaimportowany jako `log_converter`. Zwróć uwagę, że ostateczny format to tak naprawdę lista słowników opisujących wykonania."
   ]
  },
  {
   "cell_type": "code",
   "execution_count": null,
   "metadata": {
    "ExecuteTime": {
     "end_time": "2022-01-16T01:22:49.790081Z",
     "start_time": "2022-01-16T01:22:49.778083Z"
    }
   },
   "outputs": [],
   "source": [
    "log = log_converter.apply(df)\n",
    "log"
   ]
  },
  {
   "cell_type": "markdown",
   "metadata": {},
   "source": [
    "Na koniec skorzystamy z algorytmu alfa aby odkryć proces i następnie go zwizualizować jako sieć Petriego."
   ]
  },
  {
   "cell_type": "code",
   "execution_count": null,
   "metadata": {
    "ExecuteTime": {
     "end_time": "2022-01-16T01:22:49.913402Z",
     "start_time": "2022-01-16T01:22:49.792044Z"
    }
   },
   "outputs": [],
   "source": [
    "net, initial_marking, final_marking = alpha_miner.apply(log)\n",
    "gviz = pn_visualizer.apply(net, initial_marking, final_marking)\n",
    "gviz"
   ]
  },
  {
   "cell_type": "markdown",
   "metadata": {},
   "source": [
    "Jeśli powyższa prosta analiza przebiegła bez zakłóceń, możemy przejść do bardziej praktycznego przykładu."
   ]
  },
  {
   "cell_type": "markdown",
   "metadata": {},
   "source": [
    "## Analiza dzienników systemu ERP\n",
    "\n",
    "W ramach tego ćwiczenia przeanalizowany zostanie proces zakupów zarejestrowany w logach systemu ERP. W procesie bierze udział pięciu aktorów:\n",
    "- Klient\n",
    "- Specjalista ds. zamówień\n",
    "- Agent ds. zakupów\n",
    "- Dostawca\n",
    "- Menedżer ds. finansów\n",
    "\n",
    "Zlecający sygnalizują występowanie nieefektywnych transakcji, niezgodności z procedurami założonymi w firmie oraz opóźnienia na niektórych etapach procesu. Celem eksploracji będzie znalezienie odpowiedzi na poniższe pytania:\n",
    "1.\tJak wygląda faktyczne wykonanie procesu zakupu? Czy widać problemy w realizacji procesu?\n",
    "2.\tCzy istnieją odstępstwa w wykonaniu procesu od założonego modelu procesu? Jeśli tak, to jakie?\n",
    "3.\tCzy spełnione są założenia i cele wydajnościowe? Czy pojedynczy zakup, od zamówienia do dostawy, trwa mniej niż 21 dni?\n"
   ]
  },
  {
   "cell_type": "markdown",
   "metadata": {},
   "source": [
    "**Zad. 1: Wczytaj zbiór danych `log.csv` do dataframe'a. Każdy wiersz odpowiada jednemu zdarzeniu. Przyjrzyj się czego dotyczą poszczególne kolumny w logu. Upewnij się, że wsczytałeś kolumny z datą jako datetime.**"
   ]
  },
  {
   "cell_type": "code",
   "execution_count": null,
   "metadata": {
    "ExecuteTime": {
     "end_time": "2022-01-16T01:22:49.977285Z",
     "start_time": "2022-01-16T01:22:49.915395Z"
    }
   },
   "outputs": [],
   "source": [
    "# df = ...\n",
    "# ...\n",
    "# df.head(10)"
   ]
  },
  {
   "cell_type": "markdown",
   "metadata": {},
   "source": [
    "**Zad. 2: Przekonwertuj zbiór danych do formatu używanego przez pm4py. Pamiętaj aby przemapować nazwy kolumn. Uwaga: czas rozpoczęcia zmapuj jako `start_timestamp`, a czas zakończenia tak jak czas w poprzednim przykładzie. Zastanów się czy sortować dane według czasu rozpoczęcia czy zakończenia. Ile przypadków wykonań zawiera zaimportowany dziennik zdarzeń?**"
   ]
  },
  {
   "cell_type": "code",
   "execution_count": null,
   "metadata": {
    "ExecuteTime": {
     "end_time": "2022-01-16T01:22:50.009143Z",
     "start_time": "2022-01-16T01:22:49.979223Z"
    }
   },
   "outputs": [],
   "source": []
  },
  {
   "cell_type": "markdown",
   "metadata": {},
   "source": [
    "W następnym kroku zwizualizujemy proces ukryty w dziennikach zdarzeń. Jednak tym razem zamiast tworzyć sieć Petriego w pierwszej kolejności spojrzymy na diagram przejść. Diagram przejść podumowuje wszystkie wykonania za pomocą grafu na którym widać ile wykonań zawierało dane zdarzenia.\n",
    "\n",
    "**Zad. 3: Odkryj model typu [Directly-Follows Graph](https://pm4py.fit.fraunhofer.de/documentation#item-3-4). Zwizualizuj go pokazując liczbę wystąpień każdego zdarzenia.** "
   ]
  },
  {
   "cell_type": "code",
   "execution_count": null,
   "metadata": {
    "ExecuteTime": {
     "end_time": "2022-01-16T01:22:50.355696Z",
     "start_time": "2022-01-16T01:22:50.203438Z"
    },
    "scrolled": true
   },
   "outputs": [],
   "source": [
    "from pm4py.algo.discovery.dfg import algorithm as dfg_discovery\n",
    "from pm4py.visualization.dfg import visualizer as dfg_visualization\n",
    "\n",
    "# dfg = ...\n",
    "\n",
    "# gviz = ...\n",
    "# gviz"
   ]
  },
  {
   "cell_type": "markdown",
   "metadata": {},
   "source": [
    "Przyjrzyj się jak wygląda model procesu. Cyfry w prostokątach oznaczają liczbę aktywności, które wystąpiły. Cyfry na strzałkach wskazują liczbę wystąpień poszczególnych aktywności bezpośrednio po sobie.\n",
    "- Wszystkie 608 instancji procesu rozpoczyna się od aktywności „Przygotuj zamówienie”\n",
    "- Występuje wiele odstępstw, np. wielokrotne dokonywanie korekt dokumentów\n",
    "\n",
    "Oprócz wizualizowania liczby wystąpień, można również pokazać czas trwania każdego zdarzenia oraz czas przejść między zdarzeniami.\n",
    "\n",
    "**Zad. 4: Ponownie zwizualizuj model, tym razem pokazując na nim czas trwania każdego zdarzenia (`PERFORMANCE`). Wykorzystaj zmienną parameters, aby poprawnie wskazać kolumnę określającą czas rozpoczęcia zdarzenia.** "
   ]
  },
  {
   "cell_type": "code",
   "execution_count": null,
   "metadata": {
    "ExecuteTime": {
     "end_time": "2022-01-16T01:22:50.546180Z",
     "start_time": "2022-01-16T01:22:50.357668Z"
    },
    "scrolled": true
   },
   "outputs": [],
   "source": [
    "parameters = {dfg_discovery.Parameters.START_TIMESTAMP_KEY: \"start_timestamp\"}\n",
    "# gviz = ...\n",
    "# gviz"
   ]
  },
  {
   "cell_type": "markdown",
   "metadata": {},
   "source": [
    "Zwróć uwagę, które zdarzenia trwają najdłużej. Czy któreś z nich można zoptymalizować?"
   ]
  },
  {
   "cell_type": "markdown",
   "metadata": {},
   "source": [
    "Jako kolejny krok analizy, spojrzymy na statystyki procesu.\n",
    "\n",
    "**Zad. 5: Skorzystaj z podanej niżej funkcji aby obliczyć czas trwania każdego przypadku. Zamień otrzymaną listę na pandas Series i zamień wartości z sekund na dni. Jaka była średnia długość wykonania procesu? Jaka była mediana?** "
   ]
  },
  {
   "cell_type": "code",
   "execution_count": null,
   "metadata": {
    "ExecuteTime": {
     "end_time": "2022-01-16T01:22:50.577308Z",
     "start_time": "2022-01-16T01:22:50.548147Z"
    }
   },
   "outputs": [],
   "source": [
    "from pm4py.statistics.traces.generic.log import case_statistics\n",
    "\n",
    "all_case_durations = case_statistics.get_all_case_durations(log)\n",
    "# ..."
   ]
  },
  {
   "cell_type": "markdown",
   "metadata": {
    "ExecuteTime": {
     "end_time": "2022-01-16T00:58:44.274146Z",
     "start_time": "2022-01-16T00:58:44.260004Z"
    }
   },
   "source": [
    "**Zad. 6: Narysuj histogram czasów wykonań procesu (w dniach). Czy rozkład czasu trwania przypadków odpowiada oczekiwaniom?**"
   ]
  },
  {
   "cell_type": "code",
   "execution_count": null,
   "metadata": {
    "ExecuteTime": {
     "end_time": "2022-01-16T01:22:51.220011Z",
     "start_time": "2022-01-16T01:22:50.595267Z"
    }
   },
   "outputs": [],
   "source": []
  },
  {
   "cell_type": "markdown",
   "metadata": {},
   "source": [
    "## Warianty\n",
    "\n",
    "Zwizualizowany za pomocą grafu przejść lub sieci petriego proces bierze pod uwagę i łączy wszystkie przypadki wykonań. Niemniej jednak wiele wykonań korzysta tylko z części zdarzeń w określonej kolejności. Zbiór przypadków wykonań o takim samym przebiegu nazywany jest **wariantem**. Analiza najpopularniejszych wariantów może nam sporo powiedzieć o typowych instancjach procesu.\n",
    "\n",
    "**Zad. 7: Skorzystaj z poniższego kodu aby zwizualizować kilka najpopularniejszych wariantów. Co reprezentuje trzeci pod względem częstości wariant (index=2)? Wróć do wizualizacji całego procesu i sprawdź czy od zdarzenia *Analizuj zamówienie* istnieje jakiś bezpośredni łuk do końca procesu.** "
   ]
  },
  {
   "cell_type": "code",
   "execution_count": null,
   "metadata": {
    "ExecuteTime": {
     "end_time": "2022-01-16T01:22:51.289001Z",
     "start_time": "2022-01-16T01:22:51.245065Z"
    },
    "scrolled": true
   },
   "outputs": [],
   "source": [
    "from pm4py.algo.filtering.log.variants import variants_filter\n",
    "variants = variants_filter.get_variants(log)\n",
    "variants_count = case_statistics.get_variant_statistics(log)\n",
    "variants_count = sorted(variants_count, key=lambda x: x['count'], reverse=True)\n",
    "\n",
    "def display_variant(log, variants, variants_count, index):\n",
    "    variant_log = variants[variants_count[index]['variant']]\n",
    "    print(\"Wariant {} pokrywa {:.2%} przypadków\".format(index, 1.0*variants_count[index]['count']/len(log)))\n",
    "                                                           \n",
    "    dfg = dfg_discovery.apply(variant_log)\n",
    "    gviz = dfg_visualization.apply(dfg, log=variant_log, variant=dfg_visualization.Variants.FREQUENCY)\n",
    "    return gviz"
   ]
  },
  {
   "cell_type": "code",
   "execution_count": null,
   "metadata": {
    "ExecuteTime": {
     "end_time": "2022-01-16T01:22:51.384538Z",
     "start_time": "2022-01-16T01:22:51.291427Z"
    }
   },
   "outputs": [],
   "source": []
  },
  {
   "cell_type": "markdown",
   "metadata": {},
   "source": [
    "Warianty mogą być wykorzystane do filtrowania danych na podstawie których odkrywany jest proces.\n",
    "\n",
    "**Zad. 8: Skorzystaj z funkcji `pm4py.filter_variants_top_k(log, k)` aby przefiltrować log, a następnie odkryj i zwizualizuj proces na podstawie takiego ograniczonego zestawu przypadków. Powtórz to ćwiczenie korzystając z funkcji `pm4py.filter_variants_by_coverage_percentage(log, perc)`.** "
   ]
  },
  {
   "cell_type": "code",
   "execution_count": null,
   "metadata": {
    "ExecuteTime": {
     "end_time": "2022-01-16T01:22:51.509710Z",
     "start_time": "2022-01-16T01:22:51.386534Z"
    },
    "scrolled": true
   },
   "outputs": [],
   "source": [
    "# filtered_log = pm4py.filter_variants_top_k(...)\n",
    "\n",
    "# ..."
   ]
  },
  {
   "cell_type": "code",
   "execution_count": null,
   "metadata": {
    "ExecuteTime": {
     "end_time": "2022-01-16T01:22:51.635059Z",
     "start_time": "2022-01-16T01:22:51.512534Z"
    },
    "scrolled": true
   },
   "outputs": [],
   "source": [
    "# filtered_log = pm4py.filter_variants_by_coverage_percentage(...)\n",
    "\n",
    "# ..."
   ]
  },
  {
   "cell_type": "markdown",
   "metadata": {},
   "source": [
    "## Alternatywne spojrzenie"
   ]
  },
  {
   "cell_type": "markdown",
   "metadata": {},
   "source": [
    "Oprócz patrzenia przez pryzmat czynności, można na ten sam proces spojrzeć pod kątem ról i aktorów.\n",
    "\n",
    "**Zad. 9: Ponownie wczytaj dane z pliku `log.csv.` lecz tym razem jako kolumnę zdarzeń wskaż kolumnę `Rola`. Odkryj i zwizualizuj proces. Gdzie występują największe zakłócenia? Z jakim stanowiskiem związane są największe opóźnienia?** "
   ]
  },
  {
   "cell_type": "code",
   "execution_count": null,
   "metadata": {
    "ExecuteTime": {
     "end_time": "2022-01-16T01:22:51.999107Z",
     "start_time": "2022-01-16T01:22:51.638239Z"
    }
   },
   "outputs": [],
   "source": []
  }
 ],
 "metadata": {
  "hide_input": false,
  "kernelspec": {
   "display_name": "Python 3",
   "language": "python",
   "name": "python3"
  },
  "language_info": {
   "codemirror_mode": {
    "name": "ipython",
    "version": 3
   },
   "file_extension": ".py",
   "mimetype": "text/x-python",
   "name": "python",
   "nbconvert_exporter": "python",
   "pygments_lexer": "ipython3",
   "version": "3.7.3"
  },
  "toc": {
   "base_numbering": 1,
   "nav_menu": {},
   "number_sections": true,
   "sideBar": true,
   "skip_h1_title": false,
   "title_cell": "Table of Contents",
   "title_sidebar": "Contents",
   "toc_cell": false,
   "toc_position": {},
   "toc_section_display": true,
   "toc_window_display": false
  },
  "varInspector": {
   "cols": {
    "lenName": 16,
    "lenType": 16,
    "lenVar": 40
   },
   "kernels_config": {
    "python": {
     "delete_cmd_postfix": "",
     "delete_cmd_prefix": "del ",
     "library": "var_list.py",
     "varRefreshCmd": "print(var_dic_list())"
    },
    "r": {
     "delete_cmd_postfix": ") ",
     "delete_cmd_prefix": "rm(",
     "library": "var_list.r",
     "varRefreshCmd": "cat(var_dic_list()) "
    }
   },
   "types_to_exclude": [
    "module",
    "function",
    "builtin_function_or_method",
    "instance",
    "_Feature"
   ],
   "window_display": false
  }
 },
 "nbformat": 4,
 "nbformat_minor": 2
}
