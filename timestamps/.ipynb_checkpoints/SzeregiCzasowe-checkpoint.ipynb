{
 "cells": [
  {
   "cell_type": "markdown",
   "metadata": {},
   "source": [
    "# Analiza szeregów czasowych\n",
    "\n",
    "Ten notatnik pomoże Ci zapoznać się ze specyfiką analizy szerów czasowych. W trakcie ćwiczenia będziemy korzystać ze standardowych bibliotek takich jak [pandas](https://pandas.pydata.org/) jak również ze specjalizowanej biblioteki [pmdarima](http://alkaline-ml.com/pmdarima/). Po uzupełnieniu tego notatnika powinieneś:\n",
    "\n",
    "+ wiedzieć jak szybko wizualizować szeregi czasowe,\n",
    "+ jak w pandas przetwarzać szeregi czasowe do prognozowania,\n",
    "+ jak szybko stworzyć model typu ARIMA,\n",
    "+ jak przystosować szereg czasowy do algorytmów uczenia maszynowego."
   ]
  },
  {
   "cell_type": "markdown",
   "metadata": {},
   "source": [
    "## Przygotowanie\n",
    "\n",
    "pmdarima to biblioteka do analizy i prognozowania szeregów czasowych w Pythonie. Jej zaletami jest szereg wbudowanych testów statystycznych i opcja automatycznego doboru parametrów modeli typu ARIMA. Aby móc korzystać z biblioteki pmdarima, należy ją zainstalować w następujący sposób:\n",
    "\n",
    "```\n",
    "pip install pmdarima\n",
    "```\n",
    "\n",
    "Wykonaj poniższy kod, aby sprawdzić czy biblioteka została poprawnie zainstalowana."
   ]
  },
  {
   "cell_type": "code",
   "execution_count": null,
   "metadata": {},
   "outputs": [],
   "source": [
    "from pmdarima import datasets\n",
    "from pmdarima import utils\n",
    "from pmdarima import preprocessing\n",
    "from pmdarima import arima\n",
    "from pmdarima import auto_arima"
   ]
  },
  {
   "cell_type": "markdown",
   "metadata": {},
   "source": [
    "Jeśli wszystko działa, możemy załadować zbiór danych do ćwiczeń. Skorzystamy z klasycznego zbioru Boxa i Jenkinsa. Dane dotyczą miesięcznej liczby lotów międzynarodowych w latach 1949-1960."
   ]
  },
  {
   "cell_type": "code",
   "execution_count": null,
   "metadata": {},
   "outputs": [],
   "source": [
    "y = datasets.load_airpassengers(True) # True sprawia że dostaniemy pandas Series a nie numpy array"
   ]
  },
  {
   "cell_type": "markdown",
   "metadata": {},
   "source": [
    "**Zad. 1: Wyświetl pierwsze 10 wierszy zbioru.**"
   ]
  },
  {
   "cell_type": "code",
   "execution_count": null,
   "metadata": {},
   "outputs": [],
   "source": []
  },
  {
   "cell_type": "markdown",
   "metadata": {},
   "source": [
    "## Wizualizacje i dekompozycja na składowe\n",
    "\n",
    "Zanim przystąpimy do progonoznowania naszego szeregu czasowego, zapoznajmy się z nim bliżej.\n",
    "\n",
    "**Zad. 2: Stwórz wykres liniowy szeregu czasowego. Czy wiedziałeś, że pandas oferuje szereg [wizualizacji](https://pandas.pydata.org/pandas-docs/stable/user_guide/visualization.html)? Czy wiedziałeś, że czasami warto dodać średnik na końcu polecenia w notebooku?**"
   ]
  },
  {
   "cell_type": "code",
   "execution_count": null,
   "metadata": {},
   "outputs": [],
   "source": []
  },
  {
   "cell_type": "markdown",
   "metadata": {},
   "source": [
    "Wydaje się, że szereg czasowy wykazuje trend i sezonowość lub przynajmniej cykliczność. Zobaczmy co jeszcze możemy zwizualizować.\n",
    "\n",
    "**Zad. 3: Skorzystaj z pmdarima i funkcji w module utils o nazwie `tsdisplay`, żeby zobaczyć wykres szeregu, jego autokorelacji oraz rozkładu wartości. Możesz też skorzystać z funkcji `autocorr_plot`, żeby zobaczyć przedziały istotności autokorelacji. W obu przypadkach, ustaw parametr `show=True`. Co możesz wywnioskować z tych wszystkich wykresów?**"
   ]
  },
  {
   "cell_type": "code",
   "execution_count": null,
   "metadata": {},
   "outputs": [],
   "source": []
  },
  {
   "cell_type": "markdown",
   "metadata": {
    "scrolled": true
   },
   "source": [
    "**Zad. 4: Użyj funkcji `arima.decompose` ([API](http://alkaline-ml.com/pmdarima/modules/generated/pmdarima.arima.decompose.html#pmdarima.arima.decompose)), aby dokonać dekompozycji szeregu czasowego. Określ czy ma to być rozkład addytywny czy mulitplikatywny. Uwaga, zamień Series na numpy array podając szereg jako parametr decompose. Wynik przypisz do zmiennej `decomposed`. Następnie zwizualizuj wynik dekompozycji za pomocą `utils.decomposed_plot`.**"
   ]
  },
  {
   "cell_type": "code",
   "execution_count": null,
   "metadata": {},
   "outputs": [],
   "source": [
    "figure_kwargs = {'figsize': (6, 6)} # to będzie trzeba podać jako parametr decomposed_plot...\n"
   ]
  },
  {
   "cell_type": "markdown",
   "metadata": {},
   "source": [
    "## Prognozowanie"
   ]
  },
  {
   "cell_type": "markdown",
   "metadata": {},
   "source": [
    "Korzystając z powyższych wizualizacji można wstępnie określić czy model typu ARIMA miałby zastosowanie. Następnie można by określić parametry tego modelu. Biblioteka pmdarima ułatwia to zadanie poprzez funkcję `auto_arima`. Funkcja ta wykonuje zadanie typowe dla uczenia maszynowego jakim jest tzw. hyperparameter tuning.\n",
    "\n",
    "**Zad. 5: Uruchom poniższy kod, aby podzielić szereg czasowy na zbiór treningowy i testowy oraz uruchomić auto_arimę. Następnie dokonaj predykcji na zbiorze testowym. Oceń predykcje za pomocą miary MAE. Zwizualizuj dane testowe wraz z predykcjami, aby zobaczyć gdzie model popełnia błędy.**"
   ]
  },
  {
   "cell_type": "code",
   "execution_count": null,
   "metadata": {
    "scrolled": false
   },
   "outputs": [],
   "source": [
    "import matplotlib.pyplot as plt\n",
    "import numpy as np\n",
    "\n",
    "from sklearn.model_selection import train_test_split\n",
    "from sklearn.metrics import mean_absolute_error\n",
    "\n",
    "train, test = model_selection.train_test_split(y, train_size=120, random_state=23, shuffle=False)\n",
    "arima_model = auto_arima(train, trace=True, maxiter=10, seasonal=True, m=12)\n",
    "\n",
    "x = np.arange(test.shape[0])\n",
    "y_true = test\n",
    "y_pred = #TODO: pamiętaj, żeby ustawić n_periods na długość zbioru testowego...\n",
    "\n",
    "# plt.plot(x, y_true)\n",
    "# plt.plot(x, y_pred)\n",
    "# plt.title('Dane testowe vs. predykcje')\n",
    "# plt.show()\n",
    "\n",
    "#TODO: policzyć MAE"
   ]
  },
  {
   "cell_type": "markdown",
   "metadata": {},
   "source": [
    "## Proste modele i uczenie maszynowe\n",
    "\n",
    "Do tej pory polegaliśmy na bibliotece pmdarima. Niemniej jednak szeregi czasowe można równie dobrze przetwarzać bezpośrednio za pomocą biblioteki pandas i scikit-learn.\n",
    "\n",
    "Biblioteka pandas posiada dwie funkcje bardzo przydatne przy przetwarzaniu szeregów czasowych: `shift` i `diff`. Funkcja `shift` przesuwa dane w kolumnie, co pozwala łatwo tworzyć nowe kolumny przesunięte w czasie. Z kolei `diff` odejmuje od kolejnych wartości w kolumnie wartości oddalone o zadaną odległość w tej samej kolumnie, co pozwala łatwo stworzyć szereg różnicowy.\n",
    "\n",
    "Poniżej, cytowana za [machinelearningmastery](https://machinelearningmastery.com/convert-time-series-supervised-learning-problem-python/) (z drobnymi zmianami) metoda, która pozwala łatwo zamienić szereg czasowy na dataframe z wieloma kolumnami. "
   ]
  },
  {
   "cell_type": "code",
   "execution_count": null,
   "metadata": {},
   "outputs": [],
   "source": [
    "import pandas as pd\n",
    "\n",
    "def series_to_supervised(data, n_in=1, n_out=1, dropnan=True):\n",
    "    \"\"\"\n",
    "    Frame a time series as a supervised learning dataset.\n",
    "    Arguments:\n",
    "        data: Sequence of observations as a list or NumPy array.\n",
    "        n_in: Number of lag observations as input (X).\n",
    "        n_out: Number of observations as output (y).\n",
    "        dropnan: Boolean whether or not to drop rows with NaN values.\n",
    "    Returns:\n",
    "        Pandas DataFrame of series framed for supervised learning.\n",
    "    \"\"\"\n",
    "    n_vars = 1 if type(data) is list or len(data.shape) == 1 else data.shape[1]\n",
    "    df = pd.DataFrame(data)\n",
    "    cols, names = list(), list()\n",
    "    # input sequence (t-n, ... t-1)\n",
    "    for i in range(n_in, 0, -1):\n",
    "        cols.append(df.shift(i))\n",
    "        names += [('var%d(t-%d)' % (j+1, i)) for j in range(n_vars)]\n",
    "    # forecast sequence (t, t+1, ... t+n)\n",
    "    for i in range(0, n_out):\n",
    "        cols.append(df.shift(-i))\n",
    "        if i == 0:\n",
    "            names += [('var%d(t)' % (j+1)) for j in range(n_vars)]\n",
    "        else:\n",
    "            names += [('var%d(t+%d)' % (j+1, i)) for j in range(n_vars)]\n",
    "    # put it all together\n",
    "    agg = pd.concat(cols, axis=1)\n",
    "    agg.columns = names\n",
    "    # drop rows with NaN values\n",
    "    if dropnan:\n",
    "        agg.dropna(inplace=True)\n",
    "    return agg"
   ]
  },
  {
   "cell_type": "markdown",
   "metadata": {},
   "source": [
    "**Zad. 6: Korzystając z powyższej funkcji przekonwertuj szereg czasowy do postaci wygodnej dla algorytmów uczenia maszynowego. Następnie wykorzystaj przykłady ze zbiorów train i test z poprzedniego zadania i naucz wybrany przez siebie klasyfikator. Oceń model miarą MAE i zwizualizuj predykcje.**"
   ]
  },
  {
   "cell_type": "code",
   "execution_count": null,
   "metadata": {},
   "outputs": [],
   "source": []
  },
  {
   "cell_type": "markdown",
   "metadata": {},
   "source": [
    "**Zad. 7*: Spróbuj samodzielnie zaimplementować wybrany prosty model predykcyjny (persistence, ESWA, MA). Pandas ma szereg funkcji pozwalających przetwarzać kolumny w sposób przyrostowy jak i za pomocą okien przesuwnych.**"
   ]
  },
  {
   "cell_type": "code",
   "execution_count": null,
   "metadata": {},
   "outputs": [],
   "source": []
  }
 ],
 "metadata": {
  "hide_input": false,
  "kernelspec": {
   "display_name": "Python 3",
   "language": "python",
   "name": "python3"
  },
  "language_info": {
   "codemirror_mode": {
    "name": "ipython",
    "version": 3
   },
   "file_extension": ".py",
   "mimetype": "text/x-python",
   "name": "python",
   "nbconvert_exporter": "python",
   "pygments_lexer": "ipython3",
   "version": "3.7.3"
  },
  "toc": {
   "base_numbering": 1,
   "nav_menu": {},
   "number_sections": true,
   "sideBar": true,
   "skip_h1_title": false,
   "title_cell": "Table of Contents",
   "title_sidebar": "Contents",
   "toc_cell": false,
   "toc_position": {},
   "toc_section_display": true,
   "toc_window_display": true
  },
  "varInspector": {
   "cols": {
    "lenName": 16,
    "lenType": 16,
    "lenVar": 40
   },
   "kernels_config": {
    "python": {
     "delete_cmd_postfix": "",
     "delete_cmd_prefix": "del ",
     "library": "var_list.py",
     "varRefreshCmd": "print(var_dic_list())"
    },
    "r": {
     "delete_cmd_postfix": ") ",
     "delete_cmd_prefix": "rm(",
     "library": "var_list.r",
     "varRefreshCmd": "cat(var_dic_list()) "
    }
   },
   "types_to_exclude": [
    "module",
    "function",
    "builtin_function_or_method",
    "instance",
    "_Feature"
   ],
   "window_display": false
  }
 },
 "nbformat": 4,
 "nbformat_minor": 2
}
